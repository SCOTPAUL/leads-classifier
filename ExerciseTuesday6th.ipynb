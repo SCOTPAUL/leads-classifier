{
 "cells": [
  {
   "cell_type": "markdown",
   "metadata": {},
   "source": [
    "# LAB 3: Training a Model"
   ]
  },
  {
   "cell_type": "markdown",
   "metadata": {},
   "source": [
    "# Nupur, Paul, Priscilla, Jonathan"
   ]
  },
  {
   "cell_type": "code",
   "execution_count": 1,
   "metadata": {},
   "outputs": [],
   "source": [
    "import pandas as pd\n",
    "import numpy as np\n",
    "import seaborn as sns\n",
    "from matplotlib import pyplot as plt\n",
    "%matplotlib inline\n",
    "from sklearn.model_selection import train_test_split\n",
    "from sklearn.feature_extraction import DictVectorizer\n",
    "from sklearn.linear_model import LogisticRegression"
   ]
  },
  {
   "cell_type": "code",
   "execution_count": 2,
   "metadata": {},
   "outputs": [],
   "source": [
    "#df = pd.read_csv('WA_Fn-UseC_-Telco-Customer-Churn.csv')\n",
    "df = pd.read_csv('https://raw.githubusercontent.com/fenago/datasets/main/AirBnB_NYC_2019.csv')\n",
    "\n",
    "# df['TotalCharges'] = pd.to_numeric(df['TotalCharges'], errors='coerce')\n",
    "# df['TotalCharges'] = df['TotalCharges'].fillna(0)\n",
    "\n",
    "df.columns = df.columns.str.lower().str.replace(' ', '_')\n",
    "\n",
    "string_columns = list(df.dtypes[df.dtypes == 'object'].index)\n",
    "\n",
    "for col in string_columns:\n",
    "    df[col] = df[col].str.lower().str.replace(' ', '_')"
   ]
  },
  {
   "cell_type": "code",
   "execution_count": 3,
   "metadata": {},
   "outputs": [],
   "source": [
    "# Q1 \n",
    "df = df[[\"neighbourhood_group\", \"room_type\", \"latitude\", \"longitude\", \"price\", \"minimum_nights\", \"number_of_reviews\", \"reviews_per_month\", \"calculated_host_listings_count\", \"availability_365\"]]"
   ]
  },
  {
   "cell_type": "code",
   "execution_count": 4,
   "metadata": {},
   "outputs": [],
   "source": [
    "df = df.fillna(0)"
   ]
  },
  {
   "cell_type": "code",
   "execution_count": 5,
   "metadata": {},
   "outputs": [
    {
     "data": {
      "text/plain": [
       "0    manhattan\n",
       "Name: neighbourhood_group, dtype: object"
      ]
     },
     "execution_count": 5,
     "metadata": {},
     "output_type": "execute_result"
    }
   ],
   "source": [
    "df[\"neighbourhood_group\"].mode()"
   ]
  },
  {
   "cell_type": "code",
   "execution_count": 6,
   "metadata": {},
   "outputs": [],
   "source": [
    "from sklearn.model_selection import train_test_split\n",
    "\n",
    "df_train, df_all_test = train_test_split(df, test_size=0.4, random_state=42)\n",
    "\n",
    "df_test, df_val = train_test_split(df_all_test, test_size=0.5, random_state=42)"
   ]
  },
  {
   "cell_type": "code",
   "execution_count": 7,
   "metadata": {},
   "outputs": [],
   "source": [
    "y_train = df_train.pop('price')\n",
    "y_val = df_val.pop('price')\n",
    "y_test = df_test.pop('price')"
   ]
  },
  {
   "cell_type": "code",
   "execution_count": 8,
   "metadata": {},
   "outputs": [
    {
     "data": {
      "text/html": [
       "<div>\n",
       "<style scoped>\n",
       "    .dataframe tbody tr th:only-of-type {\n",
       "        vertical-align: middle;\n",
       "    }\n",
       "\n",
       "    .dataframe tbody tr th {\n",
       "        vertical-align: top;\n",
       "    }\n",
       "\n",
       "    .dataframe thead th {\n",
       "        text-align: right;\n",
       "    }\n",
       "</style>\n",
       "<table border=\"1\" class=\"dataframe\">\n",
       "  <thead>\n",
       "    <tr style=\"text-align: right;\">\n",
       "      <th></th>\n",
       "      <th>neighbourhood_group</th>\n",
       "      <th>room_type</th>\n",
       "      <th>latitude</th>\n",
       "      <th>longitude</th>\n",
       "      <th>minimum_nights</th>\n",
       "      <th>number_of_reviews</th>\n",
       "      <th>reviews_per_month</th>\n",
       "      <th>calculated_host_listings_count</th>\n",
       "      <th>availability_365</th>\n",
       "    </tr>\n",
       "  </thead>\n",
       "  <tbody>\n",
       "    <tr>\n",
       "      <th>1261</th>\n",
       "      <td>manhattan</td>\n",
       "      <td>private_room</td>\n",
       "      <td>40.72006</td>\n",
       "      <td>-73.99579</td>\n",
       "      <td>6</td>\n",
       "      <td>18</td>\n",
       "      <td>0.21</td>\n",
       "      <td>1</td>\n",
       "      <td>0</td>\n",
       "    </tr>\n",
       "    <tr>\n",
       "      <th>19170</th>\n",
       "      <td>brooklyn</td>\n",
       "      <td>entire_home/apt</td>\n",
       "      <td>40.68048</td>\n",
       "      <td>-73.99322</td>\n",
       "      <td>4</td>\n",
       "      <td>8</td>\n",
       "      <td>0.24</td>\n",
       "      <td>1</td>\n",
       "      <td>0</td>\n",
       "    </tr>\n",
       "    <tr>\n",
       "      <th>45159</th>\n",
       "      <td>manhattan</td>\n",
       "      <td>entire_home/apt</td>\n",
       "      <td>40.75933</td>\n",
       "      <td>-73.98751</td>\n",
       "      <td>29</td>\n",
       "      <td>0</td>\n",
       "      <td>0.00</td>\n",
       "      <td>327</td>\n",
       "      <td>336</td>\n",
       "    </tr>\n",
       "    <tr>\n",
       "      <th>9085</th>\n",
       "      <td>brooklyn</td>\n",
       "      <td>entire_home/apt</td>\n",
       "      <td>40.67886</td>\n",
       "      <td>-73.96802</td>\n",
       "      <td>1</td>\n",
       "      <td>2</td>\n",
       "      <td>0.04</td>\n",
       "      <td>1</td>\n",
       "      <td>0</td>\n",
       "    </tr>\n",
       "    <tr>\n",
       "      <th>20490</th>\n",
       "      <td>manhattan</td>\n",
       "      <td>private_room</td>\n",
       "      <td>40.72087</td>\n",
       "      <td>-73.98079</td>\n",
       "      <td>1</td>\n",
       "      <td>2</td>\n",
       "      <td>0.15</td>\n",
       "      <td>1</td>\n",
       "      <td>0</td>\n",
       "    </tr>\n",
       "    <tr>\n",
       "      <th>...</th>\n",
       "      <td>...</td>\n",
       "      <td>...</td>\n",
       "      <td>...</td>\n",
       "      <td>...</td>\n",
       "      <td>...</td>\n",
       "      <td>...</td>\n",
       "      <td>...</td>\n",
       "      <td>...</td>\n",
       "      <td>...</td>\n",
       "    </tr>\n",
       "    <tr>\n",
       "      <th>11284</th>\n",
       "      <td>manhattan</td>\n",
       "      <td>shared_room</td>\n",
       "      <td>40.84650</td>\n",
       "      <td>-73.94319</td>\n",
       "      <td>1</td>\n",
       "      <td>0</td>\n",
       "      <td>0.00</td>\n",
       "      <td>1</td>\n",
       "      <td>0</td>\n",
       "    </tr>\n",
       "    <tr>\n",
       "      <th>44732</th>\n",
       "      <td>manhattan</td>\n",
       "      <td>private_room</td>\n",
       "      <td>40.73957</td>\n",
       "      <td>-74.00082</td>\n",
       "      <td>2</td>\n",
       "      <td>4</td>\n",
       "      <td>1.90</td>\n",
       "      <td>1</td>\n",
       "      <td>76</td>\n",
       "    </tr>\n",
       "    <tr>\n",
       "      <th>38158</th>\n",
       "      <td>manhattan</td>\n",
       "      <td>entire_home/apt</td>\n",
       "      <td>40.78318</td>\n",
       "      <td>-73.97372</td>\n",
       "      <td>30</td>\n",
       "      <td>1</td>\n",
       "      <td>0.34</td>\n",
       "      <td>5</td>\n",
       "      <td>261</td>\n",
       "    </tr>\n",
       "    <tr>\n",
       "      <th>860</th>\n",
       "      <td>manhattan</td>\n",
       "      <td>entire_home/apt</td>\n",
       "      <td>40.77508</td>\n",
       "      <td>-73.97990</td>\n",
       "      <td>2</td>\n",
       "      <td>11</td>\n",
       "      <td>0.13</td>\n",
       "      <td>1</td>\n",
       "      <td>2</td>\n",
       "    </tr>\n",
       "    <tr>\n",
       "      <th>15795</th>\n",
       "      <td>queens</td>\n",
       "      <td>entire_home/apt</td>\n",
       "      <td>40.74657</td>\n",
       "      <td>-73.94555</td>\n",
       "      <td>5</td>\n",
       "      <td>1</td>\n",
       "      <td>0.03</td>\n",
       "      <td>1</td>\n",
       "      <td>0</td>\n",
       "    </tr>\n",
       "  </tbody>\n",
       "</table>\n",
       "<p>29337 rows × 9 columns</p>\n",
       "</div>"
      ],
      "text/plain": [
       "      neighbourhood_group        room_type  latitude  longitude  \\\n",
       "1261            manhattan     private_room  40.72006  -73.99579   \n",
       "19170            brooklyn  entire_home/apt  40.68048  -73.99322   \n",
       "45159           manhattan  entire_home/apt  40.75933  -73.98751   \n",
       "9085             brooklyn  entire_home/apt  40.67886  -73.96802   \n",
       "20490           manhattan     private_room  40.72087  -73.98079   \n",
       "...                   ...              ...       ...        ...   \n",
       "11284           manhattan      shared_room  40.84650  -73.94319   \n",
       "44732           manhattan     private_room  40.73957  -74.00082   \n",
       "38158           manhattan  entire_home/apt  40.78318  -73.97372   \n",
       "860             manhattan  entire_home/apt  40.77508  -73.97990   \n",
       "15795              queens  entire_home/apt  40.74657  -73.94555   \n",
       "\n",
       "       minimum_nights  number_of_reviews  reviews_per_month  \\\n",
       "1261                6                 18               0.21   \n",
       "19170               4                  8               0.24   \n",
       "45159              29                  0               0.00   \n",
       "9085                1                  2               0.04   \n",
       "20490               1                  2               0.15   \n",
       "...               ...                ...                ...   \n",
       "11284               1                  0               0.00   \n",
       "44732               2                  4               1.90   \n",
       "38158              30                  1               0.34   \n",
       "860                 2                 11               0.13   \n",
       "15795               5                  1               0.03   \n",
       "\n",
       "       calculated_host_listings_count  availability_365  \n",
       "1261                                1                 0  \n",
       "19170                               1                 0  \n",
       "45159                             327               336  \n",
       "9085                                1                 0  \n",
       "20490                               1                 0  \n",
       "...                               ...               ...  \n",
       "11284                               1                 0  \n",
       "44732                               1                76  \n",
       "38158                               5               261  \n",
       "860                                 1                 2  \n",
       "15795                               1                 0  \n",
       "\n",
       "[29337 rows x 9 columns]"
      ]
     },
     "execution_count": 8,
     "metadata": {},
     "output_type": "execute_result"
    }
   ],
   "source": [
    "df_train"
   ]
  },
  {
   "cell_type": "markdown",
   "metadata": {},
   "source": [
    "# Q2"
   ]
  },
  {
   "cell_type": "code",
   "execution_count": 9,
   "metadata": {},
   "outputs": [
    {
     "data": {
      "text/html": [
       "<div>\n",
       "<style scoped>\n",
       "    .dataframe tbody tr th:only-of-type {\n",
       "        vertical-align: middle;\n",
       "    }\n",
       "\n",
       "    .dataframe tbody tr th {\n",
       "        vertical-align: top;\n",
       "    }\n",
       "\n",
       "    .dataframe thead th {\n",
       "        text-align: right;\n",
       "    }\n",
       "</style>\n",
       "<table border=\"1\" class=\"dataframe\">\n",
       "  <thead>\n",
       "    <tr style=\"text-align: right;\">\n",
       "      <th></th>\n",
       "      <th>latitude</th>\n",
       "      <th>longitude</th>\n",
       "      <th>minimum_nights</th>\n",
       "      <th>number_of_reviews</th>\n",
       "      <th>reviews_per_month</th>\n",
       "      <th>calculated_host_listings_count</th>\n",
       "      <th>availability_365</th>\n",
       "    </tr>\n",
       "  </thead>\n",
       "  <tbody>\n",
       "    <tr>\n",
       "      <th>latitude</th>\n",
       "      <td>1.000000</td>\n",
       "      <td>0.087732</td>\n",
       "      <td>0.027252</td>\n",
       "      <td>-0.010080</td>\n",
       "      <td>-0.014699</td>\n",
       "      <td>0.019442</td>\n",
       "      <td>-0.005975</td>\n",
       "    </tr>\n",
       "    <tr>\n",
       "      <th>longitude</th>\n",
       "      <td>0.087732</td>\n",
       "      <td>1.000000</td>\n",
       "      <td>-0.067251</td>\n",
       "      <td>0.058775</td>\n",
       "      <td>0.132226</td>\n",
       "      <td>-0.116669</td>\n",
       "      <td>0.080776</td>\n",
       "    </tr>\n",
       "    <tr>\n",
       "      <th>minimum_nights</th>\n",
       "      <td>0.027252</td>\n",
       "      <td>-0.067251</td>\n",
       "      <td>1.000000</td>\n",
       "      <td>-0.085092</td>\n",
       "      <td>-0.127316</td>\n",
       "      <td>0.124060</td>\n",
       "      <td>0.141089</td>\n",
       "    </tr>\n",
       "    <tr>\n",
       "      <th>number_of_reviews</th>\n",
       "      <td>-0.010080</td>\n",
       "      <td>0.058775</td>\n",
       "      <td>-0.085092</td>\n",
       "      <td>1.000000</td>\n",
       "      <td>0.581124</td>\n",
       "      <td>-0.072687</td>\n",
       "      <td>0.176481</td>\n",
       "    </tr>\n",
       "    <tr>\n",
       "      <th>reviews_per_month</th>\n",
       "      <td>-0.014699</td>\n",
       "      <td>0.132226</td>\n",
       "      <td>-0.127316</td>\n",
       "      <td>0.581124</td>\n",
       "      <td>1.000000</td>\n",
       "      <td>-0.047254</td>\n",
       "      <td>0.166533</td>\n",
       "    </tr>\n",
       "    <tr>\n",
       "      <th>calculated_host_listings_count</th>\n",
       "      <td>0.019442</td>\n",
       "      <td>-0.116669</td>\n",
       "      <td>0.124060</td>\n",
       "      <td>-0.072687</td>\n",
       "      <td>-0.047254</td>\n",
       "      <td>1.000000</td>\n",
       "      <td>0.222986</td>\n",
       "    </tr>\n",
       "    <tr>\n",
       "      <th>availability_365</th>\n",
       "      <td>-0.005975</td>\n",
       "      <td>0.080776</td>\n",
       "      <td>0.141089</td>\n",
       "      <td>0.176481</td>\n",
       "      <td>0.166533</td>\n",
       "      <td>0.222986</td>\n",
       "      <td>1.000000</td>\n",
       "    </tr>\n",
       "  </tbody>\n",
       "</table>\n",
       "</div>"
      ],
      "text/plain": [
       "                                latitude  longitude  minimum_nights  \\\n",
       "latitude                        1.000000   0.087732        0.027252   \n",
       "longitude                       0.087732   1.000000       -0.067251   \n",
       "minimum_nights                  0.027252  -0.067251        1.000000   \n",
       "number_of_reviews              -0.010080   0.058775       -0.085092   \n",
       "reviews_per_month              -0.014699   0.132226       -0.127316   \n",
       "calculated_host_listings_count  0.019442  -0.116669        0.124060   \n",
       "availability_365               -0.005975   0.080776        0.141089   \n",
       "\n",
       "                                number_of_reviews  reviews_per_month  \\\n",
       "latitude                                -0.010080          -0.014699   \n",
       "longitude                                0.058775           0.132226   \n",
       "minimum_nights                          -0.085092          -0.127316   \n",
       "number_of_reviews                        1.000000           0.581124   \n",
       "reviews_per_month                        0.581124           1.000000   \n",
       "calculated_host_listings_count          -0.072687          -0.047254   \n",
       "availability_365                         0.176481           0.166533   \n",
       "\n",
       "                                calculated_host_listings_count  \\\n",
       "latitude                                              0.019442   \n",
       "longitude                                            -0.116669   \n",
       "minimum_nights                                        0.124060   \n",
       "number_of_reviews                                    -0.072687   \n",
       "reviews_per_month                                    -0.047254   \n",
       "calculated_host_listings_count                        1.000000   \n",
       "availability_365                                      0.222986   \n",
       "\n",
       "                                availability_365  \n",
       "latitude                               -0.005975  \n",
       "longitude                               0.080776  \n",
       "minimum_nights                          0.141089  \n",
       "number_of_reviews                       0.176481  \n",
       "reviews_per_month                       0.166533  \n",
       "calculated_host_listings_count          0.222986  \n",
       "availability_365                        1.000000  "
      ]
     },
     "execution_count": 9,
     "metadata": {},
     "output_type": "execute_result"
    }
   ],
   "source": [
    "df_train.corr()"
   ]
  },
  {
   "cell_type": "code",
   "execution_count": 10,
   "metadata": {},
   "outputs": [],
   "source": [
    "# highest correlated: number_of_reviews & reviews_per_month"
   ]
  },
  {
   "cell_type": "code",
   "execution_count": 11,
   "metadata": {},
   "outputs": [],
   "source": [
    "# creating Price into binary called 'above_average' -- GIVEN IT A DIFFERENT NAME."
   ]
  },
  {
   "cell_type": "code",
   "execution_count": 12,
   "metadata": {},
   "outputs": [],
   "source": [
    "y_train_binarised = y_train.apply(lambda v: 1 if v >= 152 else 0)"
   ]
  },
  {
   "cell_type": "code",
   "execution_count": 13,
   "metadata": {},
   "outputs": [],
   "source": [
    "y_val_binarised = y_val.apply(lambda v: 1 if v >= 152 else 0)"
   ]
  },
  {
   "cell_type": "code",
   "execution_count": 14,
   "metadata": {},
   "outputs": [],
   "source": [
    "y_test_binarised = y_test.apply(lambda v: 1 if v >= 152 else 0)"
   ]
  },
  {
   "cell_type": "markdown",
   "metadata": {},
   "source": [
    "# Q3"
   ]
  },
  {
   "cell_type": "code",
   "execution_count": 15,
   "metadata": {},
   "outputs": [
    {
     "data": {
      "text/html": [
       "<div>\n",
       "<style scoped>\n",
       "    .dataframe tbody tr th:only-of-type {\n",
       "        vertical-align: middle;\n",
       "    }\n",
       "\n",
       "    .dataframe tbody tr th {\n",
       "        vertical-align: top;\n",
       "    }\n",
       "\n",
       "    .dataframe thead th {\n",
       "        text-align: right;\n",
       "    }\n",
       "</style>\n",
       "<table border=\"1\" class=\"dataframe\">\n",
       "  <thead>\n",
       "    <tr style=\"text-align: right;\">\n",
       "      <th></th>\n",
       "      <th>MI</th>\n",
       "    </tr>\n",
       "  </thead>\n",
       "  <tbody>\n",
       "    <tr>\n",
       "      <th>room_type</th>\n",
       "      <td>0.14</td>\n",
       "    </tr>\n",
       "  </tbody>\n",
       "</table>\n",
       "</div>"
      ],
      "text/plain": [
       "             MI\n",
       "room_type  0.14"
      ]
     },
     "metadata": {},
     "output_type": "display_data"
    },
    {
     "data": {
      "text/html": [
       "<div>\n",
       "<style scoped>\n",
       "    .dataframe tbody tr th:only-of-type {\n",
       "        vertical-align: middle;\n",
       "    }\n",
       "\n",
       "    .dataframe tbody tr th {\n",
       "        vertical-align: top;\n",
       "    }\n",
       "\n",
       "    .dataframe thead th {\n",
       "        text-align: right;\n",
       "    }\n",
       "</style>\n",
       "<table border=\"1\" class=\"dataframe\">\n",
       "  <thead>\n",
       "    <tr style=\"text-align: right;\">\n",
       "      <th></th>\n",
       "      <th>MI</th>\n",
       "    </tr>\n",
       "  </thead>\n",
       "  <tbody>\n",
       "    <tr>\n",
       "      <th>neighbourhood_group</th>\n",
       "      <td>0.05</td>\n",
       "    </tr>\n",
       "  </tbody>\n",
       "</table>\n",
       "</div>"
      ],
      "text/plain": [
       "                       MI\n",
       "neighbourhood_group  0.05"
      ]
     },
     "metadata": {},
     "output_type": "display_data"
    }
   ],
   "source": [
    "from sklearn.metrics import mutual_info_score\n",
    "\n",
    "categorical = ['neighbourhood_group','room_type']\n",
    "\n",
    "def calculate_mi(series):\n",
    "    return mutual_info_score(series, y_train_binarised)\n",
    "\n",
    "df_mi = df_train[categorical].apply(calculate_mi)\n",
    "df_mi = df_mi.sort_values(ascending=False).to_frame(name='MI')\n",
    "\n",
    "display(df_mi.head(1).round(2)) # the most useful features according to the mutual information score\n",
    "display(df_mi.tail(1).round(2)) # the least useful features according to the mutual information score"
   ]
  },
  {
   "cell_type": "markdown",
   "metadata": {},
   "source": [
    "# Q4"
   ]
  },
  {
   "cell_type": "code",
   "execution_count": 16,
   "metadata": {},
   "outputs": [],
   "source": [
    "from sklearn.feature_extraction import DictVectorizer\n",
    "\n",
    "# convert data frame to dictionary\n",
    "train_dict = df_train.to_dict(orient='records')"
   ]
  },
  {
   "cell_type": "code",
   "execution_count": 17,
   "metadata": {},
   "outputs": [
    {
     "data": {
      "text/plain": [
       "DictVectorizer(sparse=False)"
      ]
     },
     "execution_count": 17,
     "metadata": {},
     "output_type": "execute_result"
    }
   ],
   "source": [
    "dv = DictVectorizer(sparse=False)\n",
    "dv.fit(train_dict)"
   ]
  },
  {
   "cell_type": "code",
   "execution_count": 18,
   "metadata": {},
   "outputs": [
    {
     "data": {
      "text/plain": [
       "['availability_365',\n",
       " 'calculated_host_listings_count',\n",
       " 'latitude',\n",
       " 'longitude',\n",
       " 'minimum_nights',\n",
       " 'neighbourhood_group=bronx',\n",
       " 'neighbourhood_group=brooklyn',\n",
       " 'neighbourhood_group=manhattan',\n",
       " 'neighbourhood_group=queens',\n",
       " 'neighbourhood_group=staten_island',\n",
       " 'number_of_reviews',\n",
       " 'reviews_per_month',\n",
       " 'room_type=entire_home/apt',\n",
       " 'room_type=private_room',\n",
       " 'room_type=shared_room']"
      ]
     },
     "execution_count": 18,
     "metadata": {},
     "output_type": "execute_result"
    }
   ],
   "source": [
    "dv.get_feature_names() "
   ]
  },
  {
   "cell_type": "code",
   "execution_count": 19,
   "metadata": {},
   "outputs": [
    {
     "data": {
      "text/plain": [
       "(29337, 15)"
      ]
     },
     "execution_count": 19,
     "metadata": {},
     "output_type": "execute_result"
    }
   ],
   "source": [
    "X_train = dv.transform(train_dict)\n",
    "X_train.shape"
   ]
  },
  {
   "cell_type": "code",
   "execution_count": 20,
   "metadata": {},
   "outputs": [],
   "source": [
    "# model can only take a Numpy array"
   ]
  },
  {
   "cell_type": "code",
   "execution_count": 21,
   "metadata": {},
   "outputs": [
    {
     "name": "stderr",
     "output_type": "stream",
     "text": [
      "/home/paul/.cache/pypoetry/virtualenvs/leads-XIT8lGUS-py3.9/lib/python3.9/site-packages/sklearn/linear_model/_logistic.py:763: ConvergenceWarning: lbfgs failed to converge (status=1):\n",
      "STOP: TOTAL NO. of ITERATIONS REACHED LIMIT.\n",
      "\n",
      "Increase the number of iterations (max_iter) or scale the data as shown in:\n",
      "    https://scikit-learn.org/stable/modules/preprocessing.html\n",
      "Please also refer to the documentation for alternative solver options:\n",
      "    https://scikit-learn.org/stable/modules/linear_model.html#logistic-regression\n",
      "  n_iter_i = _check_optimize_result(\n"
     ]
    },
    {
     "data": {
      "text/plain": [
       "LogisticRegression(random_state=42)"
      ]
     },
     "execution_count": 21,
     "metadata": {},
     "output_type": "execute_result"
    }
   ],
   "source": [
    "# Model Generation\n",
    "from sklearn.linear_model import LogisticRegression\n",
    "\n",
    "model = LogisticRegression(solver='lbfgs', C=1.0, random_state=42) # C is the regularisation parameter\n",
    "model.fit(X_train, y_train_binarised)"
   ]
  },
  {
   "cell_type": "code",
   "execution_count": 22,
   "metadata": {},
   "outputs": [],
   "source": [
    "val_dict = df_val.to_dict(orient='records')\n",
    "X_val = dv.transform(val_dict)"
   ]
  },
  {
   "cell_type": "code",
   "execution_count": 23,
   "metadata": {},
   "outputs": [
    {
     "data": {
      "text/plain": [
       "array([[0.98806283, 0.01193717],\n",
       "       [0.95015621, 0.04984379],\n",
       "       [0.97110132, 0.02889868],\n",
       "       ...,\n",
       "       [0.97400295, 0.02599705],\n",
       "       [0.523881  , 0.476119  ],\n",
       "       [0.0569672 , 0.9430328 ]])"
      ]
     },
     "execution_count": 23,
     "metadata": {},
     "output_type": "execute_result"
    }
   ],
   "source": [
    "model.predict_proba(X_val)"
   ]
  },
  {
   "cell_type": "code",
   "execution_count": 24,
   "metadata": {},
   "outputs": [
    {
     "data": {
      "text/plain": [
       "array([0, 1])"
      ]
     },
     "execution_count": 24,
     "metadata": {},
     "output_type": "execute_result"
    }
   ],
   "source": [
    "model.classes_"
   ]
  },
  {
   "cell_type": "code",
   "execution_count": 25,
   "metadata": {},
   "outputs": [
    {
     "data": {
      "text/plain": [
       "array([0.01193717, 0.04984379, 0.02889868, ..., 0.02599705, 0.476119  ,\n",
       "       0.9430328 ])"
      ]
     },
     "execution_count": 25,
     "metadata": {},
     "output_type": "execute_result"
    }
   ],
   "source": [
    "y_pred = model.predict_proba(X_val)[:, 1]\n",
    "y_pred"
   ]
  },
  {
   "cell_type": "code",
   "execution_count": 26,
   "metadata": {},
   "outputs": [],
   "source": [
    "above_average = y_pred > 0.5"
   ]
  },
  {
   "cell_type": "code",
   "execution_count": 27,
   "metadata": {},
   "outputs": [
    {
     "name": "stdout",
     "output_type": "stream",
     "text": [
      "Rounded accuracy 0.79\n"
     ]
    }
   ],
   "source": [
    "accuracy = (y_val_binarised == above_average).mean()\n",
    "# this is the accuracy\n",
    "\n",
    "print(f\"Rounded accuracy {accuracy.round(2)}\")"
   ]
  },
  {
   "cell_type": "markdown",
   "metadata": {},
   "source": [
    "# Q5"
   ]
  },
  {
   "cell_type": "code",
   "execution_count": 28,
   "metadata": {},
   "outputs": [
    {
     "name": "stdout",
     "output_type": "stream",
     "text": [
      "Accuracy without feature neighbourhood_group was 0.75, a difference of 0.04\n"
     ]
    },
    {
     "name": "stderr",
     "output_type": "stream",
     "text": [
      "/home/paul/.cache/pypoetry/virtualenvs/leads-XIT8lGUS-py3.9/lib/python3.9/site-packages/sklearn/linear_model/_logistic.py:763: ConvergenceWarning: lbfgs failed to converge (status=1):\n",
      "STOP: TOTAL NO. of ITERATIONS REACHED LIMIT.\n",
      "\n",
      "Increase the number of iterations (max_iter) or scale the data as shown in:\n",
      "    https://scikit-learn.org/stable/modules/preprocessing.html\n",
      "Please also refer to the documentation for alternative solver options:\n",
      "    https://scikit-learn.org/stable/modules/linear_model.html#logistic-regression\n",
      "  n_iter_i = _check_optimize_result(\n"
     ]
    },
    {
     "name": "stdout",
     "output_type": "stream",
     "text": [
      "Accuracy without feature room_type was 0.72, a difference of 0.07\n"
     ]
    },
    {
     "name": "stderr",
     "output_type": "stream",
     "text": [
      "/home/paul/.cache/pypoetry/virtualenvs/leads-XIT8lGUS-py3.9/lib/python3.9/site-packages/sklearn/linear_model/_logistic.py:763: ConvergenceWarning: lbfgs failed to converge (status=1):\n",
      "STOP: TOTAL NO. of ITERATIONS REACHED LIMIT.\n",
      "\n",
      "Increase the number of iterations (max_iter) or scale the data as shown in:\n",
      "    https://scikit-learn.org/stable/modules/preprocessing.html\n",
      "Please also refer to the documentation for alternative solver options:\n",
      "    https://scikit-learn.org/stable/modules/linear_model.html#logistic-regression\n",
      "  n_iter_i = _check_optimize_result(\n"
     ]
    },
    {
     "name": "stdout",
     "output_type": "stream",
     "text": [
      "Accuracy without feature latitude was 0.79, a difference of 0.0\n"
     ]
    },
    {
     "name": "stderr",
     "output_type": "stream",
     "text": [
      "/home/paul/.cache/pypoetry/virtualenvs/leads-XIT8lGUS-py3.9/lib/python3.9/site-packages/sklearn/linear_model/_logistic.py:763: ConvergenceWarning: lbfgs failed to converge (status=1):\n",
      "STOP: TOTAL NO. of ITERATIONS REACHED LIMIT.\n",
      "\n",
      "Increase the number of iterations (max_iter) or scale the data as shown in:\n",
      "    https://scikit-learn.org/stable/modules/preprocessing.html\n",
      "Please also refer to the documentation for alternative solver options:\n",
      "    https://scikit-learn.org/stable/modules/linear_model.html#logistic-regression\n",
      "  n_iter_i = _check_optimize_result(\n"
     ]
    },
    {
     "name": "stdout",
     "output_type": "stream",
     "text": [
      "Accuracy without feature longitude was 0.79, a difference of 0.0\n"
     ]
    },
    {
     "name": "stderr",
     "output_type": "stream",
     "text": [
      "/home/paul/.cache/pypoetry/virtualenvs/leads-XIT8lGUS-py3.9/lib/python3.9/site-packages/sklearn/linear_model/_logistic.py:763: ConvergenceWarning: lbfgs failed to converge (status=1):\n",
      "STOP: TOTAL NO. of ITERATIONS REACHED LIMIT.\n",
      "\n",
      "Increase the number of iterations (max_iter) or scale the data as shown in:\n",
      "    https://scikit-learn.org/stable/modules/preprocessing.html\n",
      "Please also refer to the documentation for alternative solver options:\n",
      "    https://scikit-learn.org/stable/modules/linear_model.html#logistic-regression\n",
      "  n_iter_i = _check_optimize_result(\n"
     ]
    },
    {
     "name": "stdout",
     "output_type": "stream",
     "text": [
      "Accuracy without feature minimum_nights was 0.79, a difference of 0.0\n"
     ]
    },
    {
     "name": "stderr",
     "output_type": "stream",
     "text": [
      "/home/paul/.cache/pypoetry/virtualenvs/leads-XIT8lGUS-py3.9/lib/python3.9/site-packages/sklearn/linear_model/_logistic.py:763: ConvergenceWarning: lbfgs failed to converge (status=1):\n",
      "STOP: TOTAL NO. of ITERATIONS REACHED LIMIT.\n",
      "\n",
      "Increase the number of iterations (max_iter) or scale the data as shown in:\n",
      "    https://scikit-learn.org/stable/modules/preprocessing.html\n",
      "Please also refer to the documentation for alternative solver options:\n",
      "    https://scikit-learn.org/stable/modules/linear_model.html#logistic-regression\n",
      "  n_iter_i = _check_optimize_result(\n"
     ]
    },
    {
     "name": "stdout",
     "output_type": "stream",
     "text": [
      "Accuracy without feature number_of_reviews was 0.79, a difference of 0.0\n"
     ]
    },
    {
     "name": "stderr",
     "output_type": "stream",
     "text": [
      "/home/paul/.cache/pypoetry/virtualenvs/leads-XIT8lGUS-py3.9/lib/python3.9/site-packages/sklearn/linear_model/_logistic.py:763: ConvergenceWarning: lbfgs failed to converge (status=1):\n",
      "STOP: TOTAL NO. of ITERATIONS REACHED LIMIT.\n",
      "\n",
      "Increase the number of iterations (max_iter) or scale the data as shown in:\n",
      "    https://scikit-learn.org/stable/modules/preprocessing.html\n",
      "Please also refer to the documentation for alternative solver options:\n",
      "    https://scikit-learn.org/stable/modules/linear_model.html#logistic-regression\n",
      "  n_iter_i = _check_optimize_result(\n"
     ]
    },
    {
     "name": "stdout",
     "output_type": "stream",
     "text": [
      "Accuracy without feature reviews_per_month was 0.79, a difference of 0.0\n"
     ]
    },
    {
     "name": "stderr",
     "output_type": "stream",
     "text": [
      "/home/paul/.cache/pypoetry/virtualenvs/leads-XIT8lGUS-py3.9/lib/python3.9/site-packages/sklearn/linear_model/_logistic.py:763: ConvergenceWarning: lbfgs failed to converge (status=1):\n",
      "STOP: TOTAL NO. of ITERATIONS REACHED LIMIT.\n",
      "\n",
      "Increase the number of iterations (max_iter) or scale the data as shown in:\n",
      "    https://scikit-learn.org/stable/modules/preprocessing.html\n",
      "Please also refer to the documentation for alternative solver options:\n",
      "    https://scikit-learn.org/stable/modules/linear_model.html#logistic-regression\n",
      "  n_iter_i = _check_optimize_result(\n"
     ]
    },
    {
     "name": "stdout",
     "output_type": "stream",
     "text": [
      "Accuracy without feature calculated_host_listings_count was 0.79, a difference of 0.0\n",
      "Accuracy without feature availability_365 was 0.79, a difference of 0.0\n"
     ]
    },
    {
     "name": "stderr",
     "output_type": "stream",
     "text": [
      "/home/paul/.cache/pypoetry/virtualenvs/leads-XIT8lGUS-py3.9/lib/python3.9/site-packages/sklearn/linear_model/_logistic.py:763: ConvergenceWarning: lbfgs failed to converge (status=1):\n",
      "STOP: TOTAL NO. of ITERATIONS REACHED LIMIT.\n",
      "\n",
      "Increase the number of iterations (max_iter) or scale the data as shown in:\n",
      "    https://scikit-learn.org/stable/modules/preprocessing.html\n",
      "Please also refer to the documentation for alternative solver options:\n",
      "    https://scikit-learn.org/stable/modules/linear_model.html#logistic-regression\n",
      "  n_iter_i = _check_optimize_result(\n"
     ]
    }
   ],
   "source": [
    "def feature_selection_feature_elimination(df_train, df_val, y_train_binarised, y_val_binarised, original_accuracy):\n",
    "    columns = df_train.columns\n",
    "    for column_to_leave_out in columns:\n",
    "        df_train_without_column = df_train.drop(columns=column_to_leave_out)\n",
    "        df_val_without_column = df_val.drop(columns=column_to_leave_out)\n",
    "        \n",
    "        train_dict = df_train_without_column.to_dict(orient='records')\n",
    "        val_dict = df_val_without_column.to_dict(orient='records')\n",
    "        dv = DictVectorizer(sparse=False)\n",
    "        dv.fit(train_dict)\n",
    "        \n",
    "        X_train = dv.transform(train_dict)\n",
    "        X_val = dv.transform(val_dict)\n",
    "        model = LogisticRegression(solver='lbfgs', C=1.0, random_state=42) # C is the regularisation parameter\n",
    "        model.fit(X_train, y_train_binarised)\n",
    "        \n",
    "        y_pred = model.predict(X_val)\n",
    "        \n",
    "        accuracy = (y_val_binarised == y_pred).mean().round(2)\n",
    "        \n",
    "        print(f\"Accuracy without feature {column_to_leave_out} was {accuracy}, a difference of {round(abs(accuracy - original_accuracy), 2)}\")\n",
    "    \n",
    "feature_selection_feature_elimination(df_train, df_val, y_train_binarised, y_val_binarised, accuracy)\n",
    "\n",
    "# Number of reviews and reviews per month being dropped shows no difference"
   ]
  },
  {
   "cell_type": "markdown",
   "metadata": {},
   "source": [
    "# Q6"
   ]
  },
  {
   "cell_type": "code",
   "execution_count": 29,
   "metadata": {},
   "outputs": [
    {
     "name": "stdout",
     "output_type": "stream",
     "text": [
      "LR: 0.859092 (0.006399)\n",
      "Score for each of the 10 K-fold tests:  [0.85922203 0.86251896 0.85881726 0.86152564 0.85648699 0.8668513\n",
      " 0.85749518 0.84203265 0.86360667 0.86236524]\n",
      "LogisticRegression(solver='liblinear')\n",
      "\tTraining time: 0.000s\n",
      "\tPrediction time: 1.877s\n",
      "\n",
      "LDA: 0.861586 (0.006452)\n",
      "Score for each of the 10 K-fold tests:  [0.86303435 0.86477086 0.86040615 0.86471728 0.85713797 0.86945195\n",
      " 0.86066753 0.84488277 0.86647444 0.86431737]\n",
      "LinearDiscriminantAnalysis()\n",
      "\tTraining time: 0.000s\n",
      "\tPrediction time: 0.788s\n",
      "\n",
      "KNN: 0.723083 (0.010043)\n",
      "Score for each of the 10 K-fold tests:  [0.72773    0.71867559 0.72807695 0.72714236 0.72382699 0.73610799\n",
      " 0.71647215 0.70958568 0.73781993 0.70539412]\n",
      "KNeighborsClassifier()\n",
      "\tTraining time: 0.000s\n",
      "\tPrediction time: 1.195s\n",
      "\n",
      "CART: 0.727205 (0.013890)\n",
      "Score for each of the 10 K-fold tests:  [0.71528232 0.7153099  0.71653424 0.73504658 0.72426595 0.74752985\n",
      " 0.7505271  0.70574526 0.72800222 0.73380391]\n",
      "DecisionTreeClassifier()\n",
      "\tTraining time: 0.000s\n",
      "\tPrediction time: 1.410s\n",
      "\n",
      "NB: 0.840933 (0.008499)\n",
      "Score for each of the 10 K-fold tests:  [0.84196092 0.84802894 0.82686745 0.839206   0.84222245 0.8534267\n",
      " 0.84101691 0.82485213 0.84744676 0.84430089]\n",
      "GaussianNB()\n",
      "\tTraining time: 0.000s\n",
      "\tPrediction time: 0.081s\n",
      "\n"
     ]
    },
    {
     "data": {
      "image/png": "[encoded data removed]",
      "text/plain": [
       "<Figure size 640x480 with 1 Axes>"
      ]
     },
     "metadata": {},
     "output_type": "display_data"
    }
   ],
   "source": [
    "# Compare Algorithms with the Algorithm Harness\n",
    "# https://scikit-learn.org/stable/supervised_learning.html#supervised-learning\n",
    "from sklearn.metrics import roc_auc_score\n",
    "from time import time\n",
    "from sklearn.metrics import explained_variance_score,mean_absolute_error,r2_score\n",
    "from pandas import read_csv\n",
    "from matplotlib import pyplot\n",
    "from sklearn.model_selection import KFold\n",
    "from sklearn.model_selection import cross_val_score\n",
    "from sklearn.linear_model import LogisticRegression\n",
    "from sklearn.tree import DecisionTreeClassifier\n",
    "from sklearn.neighbors import KNeighborsClassifier\n",
    "from sklearn.discriminant_analysis import LinearDiscriminantAnalysis\n",
    "from sklearn.naive_bayes import GaussianNB\n",
    "from sklearn.svm import SVC\n",
    "models = []\n",
    "models.append(('LR', LogisticRegression(solver='liblinear')))\n",
    "models.append(('LDA', LinearDiscriminantAnalysis()))\n",
    "models.append(('KNN', KNeighborsClassifier()))\n",
    "models.append(('CART', DecisionTreeClassifier()))\n",
    "models.append(('NB', GaussianNB()))\n",
    "# evaluate each model in turn\n",
    "results = []\n",
    "names = []\n",
    "scoring = 'roc_auc'\n",
    "# you can also use other metrics to score your models: https://iqcode.com/code/python/sklearn-cross-val-score-scoring-options\n",
    "for name, model in models:\n",
    "    start = time()\n",
    "    kfold = KFold(n_splits=10, random_state=7, shuffle=True)\n",
    "    train_time = time() - start\n",
    "    cv_results = cross_val_score(model, X_train, y_train_binarised, cv=kfold, scoring=scoring)\n",
    "    predict_time = time()-start \n",
    "    results.append(cv_results)\n",
    "    names.append(name)\n",
    "    msg = \"%s: %f (%f)\" % (name, cv_results.mean(), cv_results.std())\n",
    "    #y_pred = model.predict_proba(X_train)[:, 1]\n",
    "    #auc = roc_auc_score(y_train, y_pred)\n",
    "    print(msg)\n",
    "    print(\"Score for each of the 10 K-fold tests: \",cv_results)\n",
    "    print(model)\n",
    "    print(\"\\tTraining time: %0.3fs\" % train_time)\n",
    "    print(\"\\tPrediction time: %0.3fs\" % predict_time)\n",
    "    #y_pred = model.predict(X_test)\n",
    "    #print(\"\\tExplained variance:\", explained_variance_score(y_test, y_pred))\n",
    "    print()\n",
    "# boxplot algorithm comparison\n",
    "fig = pyplot.figure()\n",
    "fig.suptitle('Algorithm Comparison')\n",
    "ax = fig.add_subplot(111)\n",
    "pyplot.boxplot(results)\n",
    "ax.set_xticklabels(names)\n",
    "pyplot.show()"
   ]
  },
  {
   "cell_type": "code",
   "execution_count": 31,
   "metadata": {},
   "outputs": [],
   "source": [
    "# Removed SVC due to impractically long train time\n",
    "# Top 3 remaining are Logistic Regression, Linear Discriminant Analysis and Gaussian Naive Bayes"
   ]
  },
  {
   "cell_type": "markdown",
   "metadata": {},
   "source": [
    "# Q7"
   ]
  },
  {
   "cell_type": "code",
   "execution_count": 50,
   "metadata": {},
   "outputs": [],
   "source": [
    "y_train_log =  y_train#np.log(y_train)\n",
    "y_val_log = y_val#np.log(y_val)\n",
    "\n",
    "from sklearn.linear_model import Ridge\n"
   ]
  },
  {
   "cell_type": "code",
   "execution_count": 57,
   "metadata": {},
   "outputs": [],
   "source": [
    "\n",
    "\n",
    "def find_best_alpha():\n",
    "    alphas = [0, 0.01, 0.1, 1, 10]\n",
    "    for a in alphas:\n",
    "        clf = Ridge(alpha=a)\n",
    "        clf.fit(X_train, y_train_log)\n",
    "        \n",
    "        y_pred = clf.predict(X_val)\n",
    "        print(f\"Alpha {a} gives RMSE {np.sqrt(np.sum((y_val_log - y_pred) ** 2) / len(y_pred)).round(3)}\")"
   ]
  },
  {
   "cell_type": "code",
   "execution_count": 58,
   "metadata": {},
   "outputs": [
    {
     "name": "stdout",
     "output_type": "stream",
     "text": [
      "Alpha 0 gives RMSE 188.524\n",
      "Alpha 0.01 gives RMSE 188.248\n",
      "Alpha 0.1 gives RMSE 188.247\n",
      "Alpha 1 gives RMSE 188.243\n",
      "Alpha 10 gives RMSE 188.257\n"
     ]
    }
   ],
   "source": [
    "find_best_alpha()\n"
   ]
  },
  {
   "cell_type": "code",
   "execution_count": 53,
   "metadata": {},
   "outputs": [
    {
     "data": {
      "text/plain": [
       "29280      35\n",
       "48677     185\n",
       "9159       35\n",
       "20915      85\n",
       "15965      45\n",
       "         ... \n",
       "2896     1200\n",
       "38936      42\n",
       "29302      80\n",
       "2638      450\n",
       "45937     180\n",
       "Name: price, Length: 9779, dtype: int64"
      ]
     },
     "execution_count": 53,
     "metadata": {},
     "output_type": "execute_result"
    }
   ],
   "source": [
    "y_val_log"
   ]
  },
  {
   "cell_type": "code",
   "execution_count": 38,
   "metadata": {},
   "outputs": [
    {
     "data": {
      "text/plain": [
       "array([[ 19.     ,   1.     ,  40.67757, ...,   0.     ,   1.     ,\n",
       "          0.     ],\n",
       "       [175.     ,   2.     ,  40.64454, ...,   0.     ,   1.     ,\n",
       "          0.     ],\n",
       "       [  0.     ,   1.     ,  40.69034, ...,   0.     ,   1.     ,\n",
       "          0.     ],\n",
       "       ...,\n",
       "       [  0.     ,   1.     ,  40.71239, ...,   0.     ,   1.     ,\n",
       "          0.     ],\n",
       "       [258.     ,   1.     ,  40.68996, ...,   1.     ,   0.     ,\n",
       "          0.     ],\n",
       "       [302.     , 327.     ,  40.76067, ...,   1.     ,   0.     ,\n",
       "          0.     ]])"
      ]
     },
     "execution_count": 38,
     "metadata": {},
     "output_type": "execute_result"
    }
   ],
   "source": []
  },
  {
   "cell_type": "code",
   "execution_count": 44,
   "metadata": {},
   "outputs": [
    {
     "data": {
      "text/plain": [
       "False"
      ]
     },
     "execution_count": 44,
     "metadata": {},
     "output_type": "execute_result"
    }
   ],
   "source": [
    "np.any(np.isinf(X_val))"
   ]
  },
  {
   "cell_type": "code",
   "execution_count": 45,
   "metadata": {},
   "outputs": [
    {
     "data": {
      "text/plain": [
       "1250.0"
      ]
     },
     "execution_count": 45,
     "metadata": {},
     "output_type": "execute_result"
    }
   ],
   "source": [
    "X_train.()"
   ]
  },
  {
   "cell_type": "code",
   "execution_count": 47,
   "metadata": {},
   "outputs": [
    {
     "data": {
      "text/plain": [
       "False"
      ]
     },
     "execution_count": 47,
     "metadata": {},
     "output_type": "execute_result"
    }
   ],
   "source": [
    "np.isinf(X_val).any()\n",
    "#np.isfinite(X_val).all()"
   ]
  },
  {
   "cell_type": "code",
   "execution_count": 48,
   "metadata": {},
   "outputs": [
    {
     "data": {
      "text/plain": [
       "True"
      ]
     },
     "execution_count": 48,
     "metadata": {},
     "output_type": "execute_result"
    }
   ],
   "source": [
    "np.isinf(y_train_log).any()"
   ]
  },
  {
   "cell_type": "code",
   "execution_count": null,
   "metadata": {},
   "outputs": [],
   "source": []
  }
 ],
 "metadata": {
  "kernelspec": {
   "display_name": "Python 3 (ipykernel)",
   "language": "python",
   "name": "python3"
  },
  "language_info": {
   "codemirror_mode": {
    "name": "ipython",
    "version": 3
   },
   "file_extension": ".py",
   "mimetype": "text/x-python",
   "name": "python",
   "nbconvert_exporter": "python",
   "pygments_lexer": "ipython3",
   "version": "3.9.5"
  }
 },
 "nbformat": 4,
 "nbformat_minor": 4
}
